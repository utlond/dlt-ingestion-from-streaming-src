{
 "cells": [
  {
   "cell_type": "code",
   "execution_count": 0,
   "metadata": {
    "application/vnd.databricks.v1+cell": {
     "cellMetadata": {},
     "inputWidgets": {},
     "nuid": "ba1b16da-906b-43ce-8e88-af9830940d2a",
     "showTitle": false,
     "title": ""
    }
   },
   "outputs": [],
   "source": [
    "import dlt\n",
    "import pyspark.sql.functions as sf"
   ]
  },
  {
   "cell_type": "code",
   "execution_count": 0,
   "metadata": {
    "application/vnd.databricks.v1+cell": {
     "cellMetadata": {},
     "inputWidgets": {},
     "nuid": "c3a2517e-d1c5-4b92-a99d-ab339c9ab295",
     "showTitle": false,
     "title": ""
    }
   },
   "outputs": [],
   "source": [
    "@dlt.table(\n",
    "    comment = \"Ingesting data from the simulated append-only stream source data\",\n",
    "    name = \"nyctaxidata_ingested_from_trips_src\",\n",
    "    temporary = False\n",
    ")\n",
    "\n",
    "def ingest_from_streaming_src():\n",
    "\n",
    "    trips_df = (\n",
    "        spark.readStream\n",
    "        .format(\"delta\")\n",
    "        .table(\"nyctaxi_copy.trips_src\")\n",
    "    )\n",
    "    \n",
    "    enhanced_trips_df = (\n",
    "        trips_df\n",
    "        .withColumn(\n",
    "            \"trip_duration_mins\",\n",
    "            sf.round((sf.col(\"tpep_dropoff_datetime\").cast(\"long\") \n",
    "            - sf.col(\"tpep_pickup_datetime\").cast(\"long\")) / 60)\n",
    "        )\n",
    "        .withColumn(\n",
    "            \"ingestion_timestamp\",\n",
    "            sf.current_timestamp()\n",
    "        )\n",
    "    )\n",
    "    \n",
    "    return enhanced_trips_df\n"
   ]
  }
 ],
 "metadata": {
  "application/vnd.databricks.v1+notebook": {
   "dashboards": [],
   "language": "python",
   "notebookMetadata": {
    "pythonIndentUnit": 4
   },
   "notebookName": "nyctaxi_continuous_dlt_code",
   "notebookOrigID": 2886258870858579,
   "widgets": {}
  }
 },
 "nbformat": 4,
 "nbformat_minor": 0
}
