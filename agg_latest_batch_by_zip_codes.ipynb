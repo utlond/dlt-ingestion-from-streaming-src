{
 "cells": [
  {
   "cell_type": "code",
   "execution_count": 0,
   "metadata": {
    "application/vnd.databricks.v1+cell": {
     "cellMetadata": {},
     "inputWidgets": {},
     "nuid": "76e34786-e2f0-435c-a460-3433911b5796",
     "showTitle": false,
     "title": ""
    }
   },
   "outputs": [],
   "source": [
    "%run /Users/<user_email_address>/nyc_taxi/function_definitions"
   ]
  },
  {
   "cell_type": "code",
   "execution_count": 0,
   "metadata": {
    "application/vnd.databricks.v1+cell": {
     "cellMetadata": {},
     "inputWidgets": {},
     "nuid": "5931155f-de5b-4b15-83ed-17f1cdffe2ed",
     "showTitle": false,
     "title": ""
    }
   },
   "outputs": [],
   "source": [
    "dlt_schema_name = \"nyctaxi_dlt\"\n",
    "dlt_ingested_tbl_name = \"nyctaxidata_latest_batch_of_ingested_trips_stg\"\n",
    "full_ingested_tbl_name = f\"{dlt_schema_name}.{dlt_ingested_tbl_name}\""
   ]
  },
  {
   "cell_type": "code",
   "execution_count": 0,
   "metadata": {
    "application/vnd.databricks.v1+cell": {
     "cellMetadata": {},
     "inputWidgets": {},
     "nuid": "72e904fe-b761-4caf-b495-81d9f0c848bf",
     "showTitle": false,
     "title": ""
    }
   },
   "outputs": [],
   "source": [
    "# Read from the staging table into a dataframe\n",
    "trips_df_enhanced = (\n",
    "    spark.read\n",
    "    .format(\"delta\")\n",
    "    .table(full_ingested_tbl_name)\n",
    ")\n",
    "\n",
    "# Aggregate trips by zip codes\n",
    "trips_df_agg = aggregate_by_zip_codes(\n",
    "    trips_df_enhanced,\n",
    "    100\n",
    ").withColumn(\"batch_aggregation_timestamp\", sf.current_timestamp())\n",
    "\n",
    "# Write only the latest batch of aggregated data into a delta table\n",
    "trips_df_agg.write.mode(\"overwrite\").saveAsTable(\"nyctaxi_dlt.trips_agg_by_zip_codes_latest_batch\")\n",
    "# Truncate the staging table\n",
    "trips_df_enhanced.limit(0).write.mode(\"overwrite\").saveAsTable(full_ingested_tbl_name)"
   ]
  }
 ],
 "metadata": {
  "application/vnd.databricks.v1+notebook": {
   "dashboards": [],
   "language": "python",
   "notebookMetadata": {
    "pythonIndentUnit": 4
   },
   "notebookName": "agg_latest_batch_by_zip_codes",
   "notebookOrigID": 3581195425729179,
   "widgets": {}
  }
 },
 "nbformat": 4,
 "nbformat_minor": 0
}
