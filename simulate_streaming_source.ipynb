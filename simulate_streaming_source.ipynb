{
 "cells": [
  {
   "cell_type": "code",
   "execution_count": 0,
   "metadata": {
    "application/vnd.databricks.v1+cell": {
     "cellMetadata": {
      "byteLimit": 2048000,
      "rowLimit": 10000
     },
     "inputWidgets": {},
     "nuid": "b39f04b2-a81c-493a-bfda-1d75f1cf24e3",
     "showTitle": false,
     "title": ""
    }
   },
   "outputs": [],
   "source": [
    "import pyspark.sql.functions as sf"
   ]
  },
  {
   "cell_type": "code",
   "execution_count": 0,
   "metadata": {
    "application/vnd.databricks.v1+cell": {
     "cellMetadata": {
      "byteLimit": 2048000,
      "implicitDf": true,
      "rowLimit": 10000
     },
     "inputWidgets": {},
     "nuid": "521ab20a-77c7-4897-8718-28ba169db8eb",
     "showTitle": false,
     "title": ""
    }
   },
   "outputs": [
    {
     "output_type": "display_data",
     "data": {
      "text/html": [
       "<style scoped>\n  .table-result-container {\n    max-height: 300px;\n    overflow: auto;\n  }\n  table, th, td {\n    border: 1px solid black;\n    border-collapse: collapse;\n  }\n  th, td {\n    padding: 5px;\n  }\n  th {\n    text-align: left;\n  }\n</style><div class='table-result-container'><table class='table-result'><thead style='background-color: white'><tr><th>num_affected_rows</th><th>num_inserted_rows</th></tr></thead><tbody></tbody></table></div>"
      ]
     },
     "metadata": {
      "application/vnd.databricks.v1+output": {
       "addedWidgets": {},
       "aggData": [],
       "aggError": "",
       "aggOverflow": false,
       "aggSchema": [],
       "aggSeriesLimitReached": false,
       "aggType": "",
       "arguments": {},
       "columnCustomDisplayInfos": {},
       "data": [],
       "datasetInfos": [],
       "dbfsResultPath": null,
       "isJsonSchema": true,
       "metadata": {},
       "overflow": false,
       "plotOptions": {
        "customPlotOptions": {},
        "displayType": "table",
        "pivotAggregation": null,
        "pivotColumns": null,
        "xColumns": null,
        "yColumns": null
       },
       "removedWidgets": [],
       "schema": [
        {
         "metadata": "{}",
         "name": "num_affected_rows",
         "type": "\"long\""
        },
        {
         "metadata": "{}",
         "name": "num_inserted_rows",
         "type": "\"long\""
        }
       ],
       "type": "table"
      }
     },
     "output_type": "display_data"
    }
   ],
   "source": [
    "%sql\n",
    "create schema if not exists nyctaxi_copy\n",
    "LOCATION 'dbfs:/user/hive/warehouse';\n",
    "\n",
    "use schema nyctaxi_copy;\n",
    "\n",
    "create or replace table trips as (\n",
    "  select * from samples.nyctaxi.trips\n",
    ");"
   ]
  },
  {
   "cell_type": "code",
   "execution_count": 0,
   "metadata": {
    "application/vnd.databricks.v1+cell": {
     "cellMetadata": {
      "byteLimit": 2048000,
      "rowLimit": 10000
     },
     "inputWidgets": {},
     "nuid": "9161370c-7c31-4c97-8e36-16113abfcab6",
     "showTitle": false,
     "title": ""
    }
   },
   "outputs": [
    {
     "output_type": "display_data",
     "data": {
      "text/html": [
       "<style scoped>\n  .ansiout {\n    display: block;\n    unicode-bidi: embed;\n    white-space: pre-wrap;\n    word-wrap: break-word;\n    word-break: break-all;\n    font-family: \"Source Code Pro\", \"Menlo\", monospace;;\n    font-size: 13px;\n    color: #555;\n    margin-left: 4px;\n    line-height: 19px;\n  }\n</style>"
      ]
     },
     "metadata": {
      "application/vnd.databricks.v1+output": {
       "arguments": {},
       "data": "",
       "errorSummary": "Cancelled",
       "errorTraceType": "html",
       "metadata": {},
       "type": "ipynbError"
      }
     },
     "output_type": "display_data"
    }
   ],
   "source": [
    "trips_df = spark.read.format(\"delta\").table(\"nyctaxi_copy.trips\")\n",
    "\n",
    "pickup_times_df = (\n",
    "    trips_df.select(sf.col(\"tpep_pickup_datetime\"))\n",
    "    .dropDuplicates()\n",
    ")\n",
    "\n",
    "while pickup_times_df.isEmpty() == False:\n",
    "    min_pu_time_df = (\n",
    "        pickup_times_df\n",
    "        .select(\n",
    "            sf.min(sf.col(\"tpep_pickup_datetime\")).alias(\"min_pu_datetime\")\n",
    "        )\n",
    "    )\n",
    "\n",
    "    min_pu_time = [\n",
    "        i[0] for i in \n",
    "        min_pu_time_df.select(\"min_pu_datetime\").collect()\n",
    "    ][0]\n",
    "\n",
    "    trips_df_subset = (\n",
    "        trips_df\n",
    "        .where(sf.col(\"tpep_pickup_datetime\") == min_pu_time)\n",
    "        .withColumn(\"streaming_timestamp\", sf.current_timestamp())\n",
    "    )\n",
    "\n",
    "    pickup_times_df = (\n",
    "        pickup_times_df\n",
    "        .where(sf.col(\"tpep_pickup_datetime\") != min_pu_time)\n",
    "    )\n",
    "\n",
    "    trips_df_subset.write.mode(\"append\").saveAsTable(\"nyctaxi_copy.trips_src\")"
   ]
  }
 ],
 "metadata": {
  "application/vnd.databricks.v1+notebook": {
   "dashboards": [],
   "language": "python",
   "notebookMetadata": {
    "mostRecentlyExecutedCommandWithImplicitDF": {
     "commandId": 268976872017783,
     "dataframes": [
      "_sqldf"
     ]
    },
    "pythonIndentUnit": 4
   },
   "notebookName": "simulate_streaming_source",
   "notebookOrigID": 268976872017782,
   "widgets": {}
  }
 },
 "nbformat": 4,
 "nbformat_minor": 0
}
